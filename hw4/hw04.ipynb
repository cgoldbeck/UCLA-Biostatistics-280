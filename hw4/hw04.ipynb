{
 "cells": [
  {
   "cell_type": "markdown",
   "metadata": {},
   "source": [
    "# Biostat M280 Homework 4\n",
    "Cameron S. Goldbeck\n",
    "\n",
    "**Due June 2 @ 11:59PM**"
   ]
  },
  {
   "cell_type": "markdown",
   "metadata": {},
   "source": [
    "In this homework, we build a classifer for handwritten digit recognition. Following figure shows example bitmaps of handwritten digits from U.S. postal envelopes. \n",
    "\n",
    "<img src=\"./handwritten_digits.png\" width=\"400\" align=\"center\"/>\n",
    "\n",
    "Each digit is represented by a $32 \\times 32$ bitmap in which each element indicates one pixel with a value of white or black. Each $32 \\times 32$ bitmap is divided into blocks of $4 \\times 4$, and the number of white pixels are counted in each block. Therefore each handwritten digit is summarized by a vector $\\mathbf{x} = (x_1, \\ldots, x_{64})$ of length 64 where each element is a count between 0 and 16. \n",
    "\n",
    "We will use a model-based method by assuming a distribution on the count vector and carry out classification using probabilities. A common distribution for count vectors is the multinomial distribution. However as you will see in Q10, it is not a good model for handwritten digits. Let's work on a more flexible model for count vectors. In the Dirichlet-multinomial model, we assume the multinomial probabilities $\\mathbf{p} = (p_1,\\ldots, p_d)$ follow a Dirichlet distribution with parameter vector $\\alpha = (\\alpha_1,\\ldots, \\alpha_d)$, $\\alpha_j>0$, and density\n",
    "$$\n",
    "\\begin{eqnarray*}\n",
    "\t\\pi(\\mathbf{p}) =  \\frac{\\Gamma(|\\alpha|)}{\\prod_{j=1}^d \\Gamma(\\alpha_j)} \\prod_{j=1}^d p_j^{\\alpha_j-1},\n",
    "\\end{eqnarray*} \n",
    "$$\n",
    "where $|\\alpha|=\\sum_{j=1}^d \\alpha_j$."
   ]
  },
  {
   "cell_type": "markdown",
   "metadata": {},
   "source": [
    "## Q1\n",
    "\n",
    "For a multivariate count vector $\\mathbf{x}=(x_1,\\ldots,x_d)$ with batch size $|\\mathbf{x}|=\\sum_{j=1}^d x_j$, show that the probability mass function for Dirichlet-multinomial distribution is\n",
    "$$\n",
    "    f(\\mathbf{x} \\mid \\alpha) \n",
    "\t= \\int_{\\Delta_d} \\binom{|\\mathbf{x}|}{\\mathbf{x}} \\prod_{j=1}^d p_j^{x_j} \\pi(\\mathbf{p}) \\, d \\mathbf{p}  \n",
    "    = \\binom{|\\mathbf{x}|}{\\mathbf{x}} \\frac{\\prod_{j=1}^d \\Gamma(\\alpha_j+x_j)}{\\prod_{j=1}^d \\Gamma(\\alpha_j)} \\frac{\\Gamma(|\\alpha|)}{\\Gamma(|\\alpha|+|\\mathbf{x}|)}\n",
    "$$\n",
    "where $\\Delta_d$ is the unit simplex in $d$ dimensions and $|\\alpha| = \\sum_{j=1}^d \\alpha_j$.\n"
   ]
  },
  {
   "cell_type": "markdown",
   "metadata": {},
   "source": [
    "Q1) We have\n",
    "$$\n",
    "    f(\\mathbf{x} \\mid \\alpha) \n",
    "\t= \\int_{\\Delta_d} \\binom{|\\mathbf{x}|}{\\mathbf{x}} \\prod_{j=1}^d p_j^{x_j} \\pi(\\mathbf{p}) \\, d \\mathbf{p}  \n",
    "    = \\binom{|\\mathbf{x}|}{\\mathbf{x}}\\frac{\\Gamma(|\\alpha|)}{\\prod_{j=1}^d \\Gamma(\\alpha_j)} \\int_{\\Delta_d}  \\prod_{j=1}^d p_j^{x_j}  \\prod_{j=1}^d p_j^{\\alpha_j-1} \\, d \\mathbf{p}=$$\n",
    "    $$\\binom{|\\mathbf{x}|}{\\mathbf{x}}\\frac{\\Gamma(|\\alpha|)}{\\prod_{j=1}^d \\Gamma(\\alpha_j)} \\int_{\\Delta_d}   \\prod_{j=1}^d p_j^{\\alpha_j+x_j-1} \\, d \\mathbf{p}$$\n",
    "    \n",
    "We recognize thise as the kernel of the Dirichlet distribution. Therefore integrating the above yields the inverse of it normalzing constant.\n",
    "\n",
    "$$\n",
    "    f(\\mathbf{x} \\mid \\alpha) \n",
    "\t=\\binom{|\\mathbf{x}|}{\\mathbf{x}} \\frac{\\prod_{j=1}^d \\Gamma(\\alpha_j+x_j)}{\\prod_{j=1}^d \\Gamma(\\alpha_j)} \\frac{\\Gamma(|\\alpha|)}{\\Gamma(|\\alpha|+|\\mathbf{x}|)}\n",
    "$$\n",
    "    "
   ]
  },
  {
   "cell_type": "markdown",
   "metadata": {},
   "source": [
    "## Q2\n",
    "\n",
    "Given independent data points $\\mathbf{x}_1, \\ldots, \\mathbf{x}_n$, show that the log-likelihood is\n",
    "$$\n",
    "L(\\alpha) = \\sum_{i=1}^n \\ln \\binom{|\\mathbf{x}_i|}{\\mathbf{x}_i} + \\sum_{i=1}^n \\sum_{j=1}^d [\\ln \\Gamma(\\alpha_j + x_{ij}) - \\ln \\Gamma(\\alpha_j)] - \\sum_{i=1}^n [\\ln \\Gamma(|\\alpha|+|\\mathbf{x}_i|) - \\ln \\Gamma(|\\alpha|)].\n",
    "$$\n",
    "Is the log-likelihood a concave function?"
   ]
  },
  {
   "cell_type": "markdown",
   "metadata": {},
   "source": [
    "Q2) It is not always concave. For example if we let our data $x$ and parameter $\\alpha$ be as below, we can see the likelihood is not concave. "
   ]
  },
  {
   "cell_type": "code",
   "execution_count": 287,
   "metadata": {},
   "outputs": [
    {
     "data": {
      "text/plain": [
       "([-0.042703,1.94103],\n",
       "[-0.0306817 -0.999529; -0.999529 0.0306817])"
      ]
     },
     "execution_count": 287,
     "metadata": {},
     "output_type": "execute_result"
    }
   ],
   "source": [
    "#Example data and paramters\n",
    "x = ones(2, 2)\n",
    "c = [1,10]\n",
    "\n",
    "#Call the hessian matrix developed in later questions\n",
    "a = hess(x, c)[1]\n",
    "b = hess(x, c)[2]\n",
    "#Eigenvalues will show concavity\n",
    "eig(a.+b)"
   ]
  },
  {
   "cell_type": "markdown",
   "metadata": {},
   "source": [
    "cont. Because we have oposite signed eigen values, the likelihood is not concave at this point. If it were, we'd expect to see both eigenvalues to be positive, since we formed the information matrix in the hess(.) function."
   ]
  },
  {
   "cell_type": "markdown",
   "metadata": {},
   "source": [
    "## Q3\n",
    "\n",
    "Write Julia function \n",
    "```julia\n",
    "\"\"\"\n",
    "    dirmult_logpdf(x::Vector, α::Vector)\n",
    "    \n",
    "Compute the log-pdf of Dirichlet-multinomial distribution with parameter `α` \n",
    "at data point `x`.\n",
    "\"\"\"\n",
    "function dirmult_logpdf(x::Vector, α::Vector)\n",
    "    # your code here\n",
    "end\n",
    "\n",
    "function dirmult_logpdf!(r::Vector, X::Matrix, α::Vector)\n",
    "    for j in 1:size(X, 2)\n",
    "        r[j] = dirmult_logpdf(X[:, j], α)\n",
    "    end\n",
    "    return r\n",
    "end\n",
    "\n",
    "\"\"\"\n",
    "    dirmult_logpdf!(r, X, α)\n",
    "    \n",
    "Compute the log-pdf of Dirichlet-multinomial distribution with parameter `α` \n",
    "at each data point in `X`. Each column of `X` is one data point.\n",
    "\"\"\"\n",
    "function dirmult_logpdf(X::Matrix, α::Vector)\n",
    "    r = zeros(size(X, 2))\n",
    "    dirmult_logpdf!(r, X, α)\n",
    "end\n",
    "```\n",
    "to compute the log-density of the Dirichlet-multinomial distribution."
   ]
  },
  {
   "cell_type": "code",
   "execution_count": 288,
   "metadata": {},
   "outputs": [
    {
     "name": "stderr",
     "output_type": "stream",
     "text": [
      "WARNING: Method definition dirmult_logpdf(Array{T<:Any, 1}, Any) in module Main at In[124]:2 overwritten at In[288]:2.\n",
      "WARNING: Method definition dirmult_logpdf!(Array{T<:Any, 1}, Array{T<:Any, 2}, Any) in module Main at In[124]:15 overwritten at In[288]:15.\n",
      "WARNING: Method definition dirmult_logpdf(Array{T<:Any, 2}, Any) in module Main at In[124]:22 overwritten at In[288]:22.\n"
     ]
    },
    {
     "data": {
      "text/plain": [
       "dirmult_logpdf (generic function with 4 methods)"
      ]
     },
     "execution_count": 288,
     "metadata": {},
     "output_type": "execute_result"
    }
   ],
   "source": [
    "#My code\n",
    "function dirmult_logpdf(x::Vector, α)\n",
    "    xsum = sum(x)\n",
    "    αsum = sum(α)\n",
    "    d = size(α, 1)\n",
    "    sum1 = 0.0\n",
    "    for j in 1:d\n",
    "       sum1 += lgamma(α[j] + x[j]) - lgamma(α[j]) \n",
    "    end\n",
    "    # lfact(xsum) - lfact(x)\n",
    "    l = lfact(xsum) - sum(lfact(x)) + sum1 - (lgamma(αsum + xsum) - lgamma(αsum))\n",
    "    return l\n",
    "end\n",
    "\n",
    "function dirmult_logpdf!(r::Vector, X::Matrix, α)\n",
    "    for j in 1:size(X, 2)\n",
    "        r[j] = dirmult_logpdf(X[:, j], α)\n",
    "    end\n",
    "    return r\n",
    "end\n",
    "\n",
    "function dirmult_logpdf(X::Matrix, α)\n",
    "    r = zeros(size(X, 2))\n",
    "    dirmult_logpdf!(r, X, α)\n",
    "end"
   ]
  },
  {
   "cell_type": "markdown",
   "metadata": {},
   "source": [
    "## Q4\n",
    "\n",
    "Read in `optdigits.tra`, the training set of 3823 handwritten digits. Each row contains the 64 counts of a digit and the last element (65th element) indicates what digit it is. For grading purpose, evaluate the total log-likelihood of this data at parameter values $\\alpha=(1,\\ldots,1)$ using your function in Q3."
   ]
  },
  {
   "cell_type": "code",
   "execution_count": 290,
   "metadata": {},
   "outputs": [
    {
     "data": {
      "text/plain": [
       "-638817.9932925284"
      ]
     },
     "execution_count": 290,
     "metadata": {},
     "output_type": "execute_result"
    }
   ],
   "source": [
    "O = readdlm(\"optdigits.tra\", ',')';\n",
    "\n",
    "α = ones(size(O, 1) - 1)\n",
    "sum(dirmult_logpdf(O[1:64, :], α))"
   ]
  },
  {
   "cell_type": "markdown",
   "metadata": {},
   "source": [
    "## Q5\n",
    "\n",
    "Derive the score function $\\nabla L(\\alpha)$, observed information matrix $-d^2L(\\alpha)$, and Fisher information matrix $\\mathbf{E}[-d^2L(\\alpha)]$ for the Dirichlet-multinomial distribution.\n",
    "\n",
    "Comment on why Fisher scoring method is inefficient for computing MLE in this example."
   ]
  },
  {
   "cell_type": "markdown",
   "metadata": {},
   "source": [
    "Q5\n",
    "\n",
    "Taking the derivative with respect to $\\alpha_j$ we have the score function is\n",
    "\n",
    "$$\\nabla L(\\alpha)_j=\\sum_{i=1}^n\\frac{\\Gamma'(\\alpha_j+x_{ij})}{\\Gamma(\\alpha_j+x_{ij})}-\\frac{\\Gamma'(\\alpha_j)}{\\Gamma(\\alpha_j)}-\\frac{\\Gamma'(|\\mathbf{\\alpha}|+|\\mathbf{x_{i}}|)}{\\Gamma(|\\mathbf{\\alpha}|+|\\mathbf{x_{i}}|)}+\\frac{\\Gamma'(|\\mathbf{{\\alpha}|)}}{\\Gamma(|\\mathbf{\\alpha}|)}$$\n",
    "\n",
    "Taking the derivative again with respect to $\\alpha_j$ we have the diagonals of the information matrix $-d^2L(\\alpha)$\n",
    "\n",
    "$$-d^2L(\\alpha)_{jj}=-\\frac{\\partial^2L(\\alpha)}{\\partial\\alpha_j^2}= \\sum_{i=1}^n -\\frac{\\Gamma(\\alpha_j+x_{ij})\\Gamma''(\\alpha_j+x_{ij})+\\Gamma'(\\alpha_j+x_{ij})^2}{\\Gamma(\\alpha_j+x_{ij})^2}+\\frac{\\Gamma(\\alpha_j)\\Gamma''(\\alpha_j)-\\Gamma'(\\alpha_j)^2}{\\Gamma(\\alpha_j)^2}+\\frac{\\Gamma(|\\mathbf{\\alpha}|+|\\mathbf{x_{i}}|)\\Gamma''(|\\mathbf{\\alpha}|+|\\mathbf{x_{i}}|)-\\Gamma'(|\\mathbf{\\alpha}|+|\\mathbf{x_{i}}|)^2}{\\Gamma(|\\mathbf{\\alpha}|+|\\mathbf{x_{i}}|)^2}- \\frac{\\Gamma(|\\mathbf{{\\alpha}|)}\\Gamma''(|\\mathbf{{\\alpha}|)}-\\Gamma'(|\\mathbf{{\\alpha}|)}^2}{\\Gamma(|\\mathbf{{\\alpha}|)}^2}$$\n",
    "\n",
    "Now we can take the derivative of the score funtion with respect to $\\alpha_k$ for $k\\ne j$. We have\n",
    "\n",
    "$$-d^2L(\\alpha)_{jk}=\\frac{\\partial^2L(\\alpha)}{\\partial\\alpha_j\\partial\\alpha_k}=\\sum_{i=1}^n \\frac{\\Gamma(|\\mathbf{\\alpha}|+|\\mathbf{x_{i}}|)\\Gamma''(|\\mathbf{\\alpha}|+|\\mathbf{x_{i}}|)-\\Gamma'(|\\mathbf{\\alpha}|+|\\mathbf{x_{i}}|)^2}{\\Gamma(|\\mathbf{\\alpha}|+|\\mathbf{x_{i}}|)^2}- \\frac{\\Gamma(|\\mathbf{{\\alpha}|)}\\Gamma''(|\\mathbf{{\\alpha}|)}-\\Gamma'(|\\mathbf{{\\alpha}|)}^2}{\\Gamma(|\\mathbf{{\\alpha}|)}^2}$$\n",
    "\n",
    "Using the alternative formula for the likelihood we have\n",
    "\n",
    "$$\n",
    "L(\\alpha) = \\sum_{i=1}^n \\ln \\binom{|\\mathbf{x}_i|}{\\mathbf{x}_i}\n",
    "+\\sum_{i=1}^n \\sum_{j=1}^d \\sum_{k=0}^{x_{ij}-1} \\ln(\\alpha_j+k) - \\sum_{i=1}^n \\sum_{k=0}^{|\\mathbf{x}_i|-1} \\ln(|\\alpha|+k).\n",
    "$$\n",
    "\n",
    "This yields \n",
    "\n",
    "$$\n",
    "\\nabla L(\\alpha)_j = \\sum_{i=1}^n \\sum_{j=1}^d \\sum_{k=0}^{x_{ij}-1} \\frac{1}{\\alpha_j+k} - \\sum_{i=1}^n \\sum_{k=0}^{|\\mathbf{x}_i|-1} \\frac{1}{|\\alpha|+k}\n",
    "$$\n",
    "\n",
    "And then"
   ]
  },
  {
   "cell_type": "markdown",
   "metadata": {},
   "source": [
    "## Q6\n",
    "\n",
    "What structure does the observed information matrix possess that can facilitate the evaluation of the Newton direction? Is the observed information matrix always positive definite? What remedy can we take if it fails to be positive definite? (Hint: HW2 Q2.)"
   ]
  },
  {
   "cell_type": "markdown",
   "metadata": {},
   "source": [
    "Q6) We notice that the observed information matrix has a Woodbury form. It is combosed of a diagonal matrix plus a rank one. The diagonal has components \n",
    "\n",
    "$$A_{ii}= \\sum_{i=1}^n -\\frac{\\Gamma(\\alpha_j+x_{ij})\\Gamma''(\\alpha_j+x_{ij})+\\Gamma'(\\alpha_j+x_{ij})^2}{\\Gamma(\\alpha_j+x_{ij})^2}+\\frac{\\Gamma(\\alpha_j)\\Gamma''(\\alpha_j)-\\Gamma'(\\alpha_j)^2}{\\Gamma(\\alpha_j)^2}$$\n",
    "\n",
    "And the rank one matrix has form\n",
    "\n",
    "$$U= \\sum_{i=1}^n \\frac{\\Gamma(|\\mathbf{\\alpha}|+|\\mathbf{x_{i}}|)\\Gamma''(|\\mathbf{\\alpha}|+|\\mathbf{x_{i}}|)-\\Gamma'(|\\mathbf{\\alpha}|+|\\mathbf{x_{i}}|)^2}{\\Gamma(|\\mathbf{\\alpha}|+|\\mathbf{x_{i}}|)^2}- \\frac{\\Gamma(|\\mathbf{{\\alpha}|)}\\Gamma''(|\\mathbf{{\\alpha}|)}-\\Gamma'(|\\mathbf{{\\alpha}|)}^2}{\\Gamma(|\\mathbf{{\\alpha}|)}^2}\\mathbf{1}_{d\\times d}$$"
   ]
  },
  {
   "cell_type": "markdown",
   "metadata": {},
   "source": [
    "## Q7\n",
    "\n",
    "Discuss how to choose a good starting point. Implement this as the default starting value in your function below. (Hint: Method of moment estimator may furnish a good starting point.)"
   ]
  },
  {
   "cell_type": "markdown",
   "metadata": {},
   "source": [
    "First we note\n",
    "\n",
    "$$ E(p_k)=\\frac{\\alpha_k}{|\\alpha|}$$\n",
    "$$ E(p_k^2)=\\frac{\\alpha_k(\\alpha_k+1)}{|\\alpha|(|\\alpha|+1)}$$\n",
    "\n",
    "Then define $w$ such that\n",
    "\n",
    "$$w:=\\sum_k \\frac{E(p_k^2)}{E(p_k)}=\\sum_k \\frac{\\alpha_k+1}{|\\alpha|+1}=\\frac{|\\alpha|+d}{|\\alpha|+1}$$\n",
    "\n",
    "Solving for $|\\alpha|$ gives\n",
    "\n",
    "\n",
    "$$|\\alpha|=\\frac{d-w}{w-1}$$\n",
    "\n",
    "This lets us say \n",
    "\n",
    "$$\\alpha_k=|\\alpha|E(p_k)$$\n",
    "\n",
    "Now we can estimate $E(p_k)$ and $E(p_k^2)$ as\n",
    "\n",
    "$$E(p_k)=\\frac{\\sum_j (x_{kj}/|x_k|)}{n}$$\n",
    "$$E(p_k)=\\frac{\\sum_j (x_{kj}/|x_k|)^2}{n}$$\n",
    "\n",
    "Using these formulations, we have a way to gives an intial estimate of all $\\alpha_k$."
   ]
  },
  {
   "cell_type": "markdown",
   "metadata": {},
   "source": [
    "## Q8\n",
    "\n",
    "Write a function for finding MLE of Dirichlet-multinomial distribution given iid observations $\\mathbf{x}_1,\\ldots,\\mathbf{x}_n$, using the Newton's method. \n",
    "```julia\n",
    "\"\"\"\n",
    "    dirmult_newton(X)\n",
    "\n",
    "Find the MLE of Dirichlet-multinomial distribution using Newton's method.\n",
    "\n",
    "# Argument\n",
    "* `X`: an $n$-by-$d$ matrix of counts; each column is one data point.\n",
    "\n",
    "# Optional argument  \n",
    "* `alpha0`: a $d$ vector of starting point (optional), \n",
    "* `maxiters`: the maximum allowable Newton iterations (default 100), \n",
    "* `tolfun`: the tolerance for  relative change in objective values (default 1e-6). \n",
    "\n",
    "# Output\n",
    "* `maximum`: the log-likelihood at MLE   \n",
    "* `estimate`: the MLE \n",
    "* `gradient`: the gradient at MLE \n",
    "* `hessian`: the Hessian at MLE \n",
    "* `se`: a $d$ vector of standard errors \n",
    "* `iterations`: the number of iterations performed\n",
    "\"\"\"\n",
    "function dirmult_newton(X::Matrix{Float64}; α0::Vector{Float64}=nothing, \n",
    "            maxiters::Int=100, tolfun::Float64=1e-6)\n",
    "    \n",
    "    # set default starting point from Q7\n",
    "    \n",
    "    # Newton loop\n",
    "    for iter in 1:maxiters\n",
    "        # evaluate gradient (score)\n",
    "        \n",
    "        # approximated observed information matrix\n",
    "        \n",
    "        # compute Newton's direction\n",
    "        \n",
    "        # line search loop\n",
    "        for lsiter in 1:10\n",
    "            # step halving\n",
    "        end\n",
    "        \n",
    "        # check convergence criterion\n",
    "        if abs(logl - loglold) < tolfun * (abs(loglold) + 1))\n",
    "            break;\n",
    "        end\n",
    "    end\n",
    "    \n",
    "    # compute logl, gradient, Hessian from final iterate\n",
    "    \n",
    "    # output\n",
    "    \n",
    "end\n",
    "```"
   ]
  },
  {
   "cell_type": "code",
   "execution_count": 335,
   "metadata": {},
   "outputs": [
    {
     "name": "stderr",
     "output_type": "stream",
     "text": [
      "WARNING: Method definition score(Array{Float64, 2}, Array{Float64, 1}) in module Main at In[332]:5 overwritten at In[335]:5.\n",
      "WARNING: Method definition hess(Array{Float64, 2}, Array{Float64, 1}) in module Main at In[332]:22 overwritten at In[335]:22.\n",
      "WARNING: Method definition ton(Array{Float64, 2}) in module Main at In[332]:40 overwritten at In[335]:40.\n",
      "WARNING: Method definition #ton(Array{Any, 1}, Main.#ton, Array{Float64, 2}) in module Main overwritten.\n"
     ]
    },
    {
     "data": {
      "text/plain": [
       "ton (generic function with 2 methods)"
      ]
     },
     "execution_count": 335,
     "metadata": {},
     "output_type": "execute_result"
    }
   ],
   "source": [
    "using WoodburyMatrices\n",
    "\n",
    "function score(X::Matrix{Float64}, α::Vector{Float64})\n",
    "    #Assumes X is tall\n",
    "    d = length(α)\n",
    "    n = size(X, 1)\n",
    "    L = zeros(d)\n",
    "    sum1 = sum(α)\n",
    "    sum2 = sum(X, 2)\n",
    "    cons = - (digamma(α) .- digamma(sum1))\n",
    "    for j in 1:d\n",
    "        for i in 1:n\n",
    "            #dont use transpose for X\n",
    "            L[j] += digamma(α[j] + X[i, j]) - digamma(sum1 + sum2[i]) + cons[j]\n",
    "        end\n",
    "    end\n",
    "    return L\n",
    "end\n",
    "\n",
    "function hess(X::Matrix{Float64}, α::Vector{Float64})\n",
    "    #Assumes X is tall\n",
    "    d = length(α)\n",
    "    n = size(X, 1)\n",
    "    a = zeros(d)\n",
    "    u = 0.0\n",
    "    sum1 = sum(α)\n",
    "    sum2 = sum(X, 2)\n",
    "    for j in 1:d\n",
    "        for i in 1:n\n",
    "            #dont use transpose for X\n",
    "            a[j] += trigamma(α[j]) - trigamma(α[j] + X[i, j])\n",
    "            u += trigamma(sum1 + sum2[i]) - trigamma(sum1)\n",
    "        end\n",
    "    end\n",
    "    return Diagonal(a), u * ones(1,1)\n",
    "end\n",
    "\n",
    "function ton(X::Matrix{Float64}; maxiters::Int=100, tolfun::Float64=1e-6)\n",
    "\n",
    "    n = size(X, 1)\n",
    "    nonZeros = find(sum(X,1) .!= 0.0)\n",
    "    Xnew = X[:, nonZeros = find(sum(X,1) .!= 0.0)]\n",
    "    Xt = Xnew.'\n",
    "    d = size(Xnew, 2)\n",
    "    \n",
    "    # set default starting point from Q7\n",
    "    p = sum(Xnew ./ sum(Xnew, 2), 1) / n\n",
    "    psq = sum((Xnew ./ sum(Xnew, 2)).^2, 1) / n\n",
    "    w = sum(psq ./ p)\n",
    "    sumα0 = (d - w) / (w - 1)\n",
    "    α0 = sumα0 * p'\n",
    "    \n",
    "    count = 0 \n",
    "    # Newton loop\n",
    "    for iter in 1:maxiters\n",
    "        count += 1\n",
    "        # evaluate gradient (score)\n",
    "        L = score(Xnew, α0)\n",
    "\n",
    "        # approximated observed information matrix\n",
    "        A, u = hess(Xnew, α0)\n",
    "        \n",
    "        #chech pd\n",
    "        sumd = (sum(A).^-1)\n",
    "        if u[1] < sumd^-1\n",
    "            u[1] = .99 * (sum(A).^-1)\n",
    "        end\n",
    "        M = SymWoodbury(A, ones(d, 1), u)\n",
    "\n",
    "        # compute Newton's direction\n",
    "        step = M \\ L\n",
    "        αnew = α0 + step\n",
    "\n",
    "        # line search loop\n",
    "        logl = sum(dirmult_logpdf(Xt, αnew))\n",
    "        loglold = sum(dirmult_logpdf(Xt, α0))\n",
    "        for lsiter in 1:10\n",
    "            # step halving\n",
    "            if logl < loglold\n",
    "                break\n",
    "            else\n",
    "                step = step / 2\n",
    "                αnew = α0 + step\n",
    "            end\n",
    "        end\n",
    "\n",
    "        # check convergence criterion\n",
    "        if abs(logl - loglold) < tolfun * (abs(loglold) + 1)\n",
    "            break;\n",
    "        end\n",
    "        α0 = αnew\n",
    "    end\n",
    "\n",
    "    # compute logl, gradient, Hessian from final iterate\n",
    "    logl = sum(dirmult_logpdf(Xt, α0))\n",
    "    score(Xnew, α0)\n",
    "    hess(Xnew, α0)\n",
    "    count\n",
    "\n",
    "    # output\n",
    "    αfin = zeros(size(X, 2))\n",
    "    αfin[nonZeros] = α0[1:d]\n",
    "    return αfin\n",
    "end"
   ]
  },
  {
   "cell_type": "markdown",
   "metadata": {},
   "source": [
    "## Q9\n",
    "\n",
    "Read in `optdigits.tra`, the training set of 3823 handwritten digits. Find the MLE for the subset of digit 0, digit 1, ..., and digit 9 separately using your function. "
   ]
  },
  {
   "cell_type": "code",
   "execution_count": 336,
   "metadata": {},
   "outputs": [
    {
     "data": {
      "text/plain": [
       "64×10 Array{Float64,2}:\n",
       " 0.0         0.0         0.0         …  0.0          0.0         0.0       \n",
       " 0.0140349   0.00353287  0.261422       0.107642     0.0544353   0.0413967 \n",
       " 2.09881     0.572006    2.90211        1.96333      1.99736     1.48016   \n",
       " 6.19974     2.34549     3.939          3.81342      4.57268     3.44099   \n",
       " 5.14046     2.95199     2.11615        4.12275      4.44523     3.43954   \n",
       " 1.19896     1.51989     0.373789    …  3.50048      2.10375     1.78457   \n",
       " 0.0261346   0.138367    0.0238132      1.72897      0.159583    0.504968  \n",
       " 0.0         0.0         0.0            0.257032     0.0         0.0180792 \n",
       " 0.0         0.0         0.0            0.0          0.00372367  0.0       \n",
       " 0.516772    0.0542315   1.37275        0.248532     0.866409    0.641777  \n",
       " 6.07588     1.18593     4.14484     …  2.49817      4.83995     3.72087   \n",
       " 6.13379     3.30678     3.57073        2.97804      3.62668     3.10637   \n",
       " 5.71322     3.96717     3.41214        3.13337      3.29486     3.04173   \n",
       " ⋮                                   ⋱                                     \n",
       " 4.92953     3.84332     3.38482        1.40993      2.87482     2.28606   \n",
       " 6.33957     2.4575      2.99842        0.0675144    3.47314     2.6778    \n",
       " 1.23869     0.401124    1.90482        0.000755753  0.9126      1.21988   \n",
       " 0.0         0.0472011   0.0982316   …  0.0          0.0         0.0186648 \n",
       " 0.0         0.0         0.00069494     0.0          0.0         0.0       \n",
       " 0.00825044  0.00931771  0.263768       0.104956     0.04392     0.0332225 \n",
       " 2.10693     0.567602    2.96152        2.31441      2.09607     1.49015   \n",
       " 6.3752      2.24232     3.96544        3.1963       4.83525     3.53951   \n",
       " 6.28027     3.36167     3.72725     …  0.445749     4.54691     3.40985   \n",
       " 2.5923      2.37465     3.42789        0.0275012    2.38536     1.92625   \n",
       " 0.0963671   0.593522    2.46481        0.0          0.328795    0.421783  \n",
       " 0.0         0.111877    0.317543       0.0          0.00670162  0.00711064"
      ]
     },
     "execution_count": 336,
     "metadata": {},
     "output_type": "execute_result"
    }
   ],
   "source": [
    "X=O[1:64, :]'\n",
    "Α = zeros(10, 64)\n",
    "\n",
    "for i in 0:9\n",
    "    Α[i+1, :] = ton(X[find(O[65,:] .== i), :])\n",
    "end\n",
    "\n",
    "Α'"
   ]
  },
  {
   "cell_type": "markdown",
   "metadata": {},
   "source": [
    "## Q10\n",
    "\n",
    "As $\\alpha / |\\alpha| \\to \\mathbf{p}$, the Dirichlet-multinomial distribution converges to a multinomial with parameter $\\mathbf{p}$. Therefore multinomial can be considered as a special Dirichlet-multinomial with $|\\alpha|=\\infty$. Perform a likelihood ratio test (LRT) whether Dirichlet-multinomial offers a better fit than multinomial for digits 0, 1, ..., 9 respectively."
   ]
  },
  {
   "cell_type": "markdown",
   "metadata": {},
   "source": [
    "## Q11\n",
    "\n",
    "Now we can construct a simple Bayesian rule for handwritten digits recognition:\n",
    "$$\n",
    "\t\\mathbf{x}\t\\mapsto \\arg \\max_k \\widehat \\pi_k f(x|\\widehat \\alpha_k).\n",
    "$$\n",
    "Here we can use the proportion of digit $k$ in the training set as the prior probability $\\widehat \\pi_k$. Report the performance of your classifier on the test set of 1797 digits in `optdigits.tes`."
   ]
  },
  {
   "cell_type": "code",
   "execution_count": 272,
   "metadata": {},
   "outputs": [
    {
     "data": {
      "text/plain": [
       "10-element Array{Float64,1}:\n",
       " 0.0983521\n",
       " 0.101753 \n",
       " 0.0993984\n",
       " 0.101753 \n",
       " 0.101229 \n",
       " 0.0983521\n",
       " 0.0986137\n",
       " 0.101229 \n",
       " 0.0993984\n",
       " 0.0999215"
      ]
     },
     "execution_count": 272,
     "metadata": {},
     "output_type": "execute_result"
    }
   ],
   "source": [
    "using StatsBase\n",
    "πhat = zeros(10)\n",
    "for i in 0:9\n",
    "   πhat[i + 1] = sum(O[65,:] .== i) / n\n",
    "end\n",
    "πhat"
   ]
  },
  {
   "cell_type": "code",
   "execution_count": null,
   "metadata": {
    "collapsed": true
   },
   "outputs": [],
   "source": [
    "Otest = readdlm(\"optdigits.test\", ',')';"
   ]
  },
  {
   "cell_type": "code",
   "execution_count": 352,
   "metadata": {},
   "outputs": [
    {
     "data": {
      "text/plain": [
       "64-element Array{Float64,1}:\n",
       "      0.0    \n",
       "   -743.423  \n",
       " -29195.4    \n",
       " -78396.0    \n",
       " -75623.8    \n",
       " -32311.8    \n",
       "  -7455.37   \n",
       "   -814.328  \n",
       "    -26.5416 \n",
       "  -8408.93   \n",
       " -69831.5    \n",
       " -76788.6    \n",
       " -68473.8    \n",
       "      ⋮      \n",
       " -62177.6    \n",
       " -60732.8    \n",
       " -20827.4    \n",
       "   -570.96   \n",
       "     -3.89004\n",
       "   -823.27   \n",
       " -32582.7    \n",
       " -79845.7    \n",
       " -76966.6    \n",
       " -40831.9    \n",
       " -11431.8    \n",
       "   -971.925  "
      ]
     },
     "execution_count": 352,
     "metadata": {},
     "output_type": "execute_result"
    }
   ],
   "source": [
    "dirmult_logpdf(X, Α'[4, :].+1)"
   ]
  },
  {
   "cell_type": "markdown",
   "metadata": {},
   "source": [
    "Got stuck here :( couldn't go further. Be kind please."
   ]
  }
 ],
 "metadata": {
  "kernelspec": {
   "display_name": "Julia 0.5.1",
   "language": "julia",
   "name": "julia-0.5"
  },
  "language_info": {
   "file_extension": ".jl",
   "mimetype": "application/julia",
   "name": "julia",
   "version": "0.5.1"
  },
  "toc": {
   "colors": {
    "hover_highlight": "#DAA520",
    "running_highlight": "#FF0000",
    "selected_highlight": "#FFD700"
   },
   "moveMenuLeft": true,
   "nav_menu": {
    "height": "65px",
    "width": "252px"
   },
   "navigate_menu": true,
   "number_sections": false,
   "sideBar": true,
   "threshold": 4,
   "toc_cell": false,
   "toc_section_display": "block",
   "toc_window_display": false,
   "widenNotebook": false
  }
 },
 "nbformat": 4,
 "nbformat_minor": 2
}
